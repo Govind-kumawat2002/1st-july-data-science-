{
 "cells": [
  {
   "cell_type": "markdown",
   "id": "77268bf5",
   "metadata": {},
   "source": [
    "#### OS "
   ]
  },
  {
   "cell_type": "code",
   "execution_count": 1,
   "id": "cbf62460",
   "metadata": {},
   "outputs": [],
   "source": [
    "import os "
   ]
  },
  {
   "cell_type": "code",
   "execution_count": 2,
   "id": "268f92f6",
   "metadata": {},
   "outputs": [
    {
     "name": "stdout",
     "output_type": "stream",
     "text": [
      "c:\\Users\\kumaw\\OneDrive\\Desktop\\Data science 1 july\\os\n"
     ]
    }
   ],
   "source": [
    "file =os.getcwd()\n",
    "print(file)                       #get current working directory"
   ]
  },
  {
   "cell_type": "code",
   "execution_count": 3,
   "id": "b5212bdb",
   "metadata": {},
   "outputs": [
    {
     "name": "stdout",
     "output_type": "stream",
     "text": [
      "total file in this directory :-  ['os.ipynb']\n"
     ]
    }
   ],
   "source": [
    "file=os.listdir(r\"c:\\Users\\kumaw\\OneDrive\\Desktop\\Data science 1 july\\os\") #### list all the files in the directory\n",
    "print(\"total file in this directory :- \",file)"
   ]
  },
  {
   "cell_type": "code",
   "execution_count": 4,
   "id": "409ac68a",
   "metadata": {},
   "outputs": [
    {
     "name": "stdout",
     "output_type": "stream",
     "text": [
      "total file in this directory :-  ['basic.py', 'conditional.ipynb', 'demo.txt', 'exception.ipynb', 'file_handling.ipynb', 'function.ipynb', 'looping.ipynb', 'oops.ipynb', 'text.txt', 'upflairs.txt']\n"
     ]
    }
   ],
   "source": [
    "file=os.listdir(r\"c:\\Users\\kumaw\\OneDrive\\Desktop\\Data science 1 july\\python\") #### list all the files in the directory\n",
    "print(\"total file in this directory :- \",file)"
   ]
  },
  {
   "cell_type": "code",
   "execution_count": 5,
   "id": "d2f7825e",
   "metadata": {},
   "outputs": [
    {
     "data": {
      "text/plain": [
       "['1st_june_Data_science',\n",
       " '1st_june_python_assignment',\n",
       " 'airc workshop syllabus',\n",
       " 'assign submision',\n",
       " 'assignmen-3.docx',\n",
       " 'assignment folder',\n",
       " 'book_content',\n",
       " 'college_time',\n",
       " 'datasets',\n",
       " 'Gen Ai',\n",
       " 'module syllabus',\n",
       " 'ppt',\n",
       " 'quize test',\n",
       " 'student_content',\n",
       " 'syllabus.docx',\n",
       " 'task',\n",
       " 'updated_syllabus']"
      ]
     },
     "execution_count": 5,
     "metadata": {},
     "output_type": "execute_result"
    }
   ],
   "source": [
    "path = r\"E:\\Desktop\\may 13\\origupflairs\"\n",
    "os.listdir(path)    "
   ]
  },
  {
   "cell_type": "code",
   "execution_count": 6,
   "id": "e51cc55c",
   "metadata": {},
   "outputs": [
    {
     "name": "stdout",
     "output_type": "stream",
     "text": [
      "folder created successfully\n"
     ]
    }
   ],
   "source": [
    "os.mkdir(\"test\")  #it will create a folder named test\n",
    "print(\"folder created successfully\")"
   ]
  },
  {
   "cell_type": "code",
   "execution_count": 7,
   "id": "a29cf640",
   "metadata": {},
   "outputs": [
    {
     "data": {
      "text/plain": [
       "['os.ipynb', 'test']"
      ]
     },
     "execution_count": 7,
     "metadata": {},
     "output_type": "execute_result"
    }
   ],
   "source": [
    "os.listdir(os.getcwd())"
   ]
  },
  {
   "cell_type": "code",
   "execution_count": 8,
   "id": "7e2f2bdb",
   "metadata": {},
   "outputs": [
    {
     "name": "stdout",
     "output_type": "stream",
     "text": [
      "folder renamed successfully\n"
     ]
    }
   ],
   "source": [
    "os.rename(\"test\",\"Data science\")\n",
    "print(\"folder renamed successfully\")"
   ]
  },
  {
   "cell_type": "code",
   "execution_count": 9,
   "id": "88a5a486",
   "metadata": {},
   "outputs": [
    {
     "data": {
      "text/plain": [
       "['Data science', 'os.ipynb']"
      ]
     },
     "execution_count": 9,
     "metadata": {},
     "output_type": "execute_result"
    }
   ],
   "source": [
    "os.listdir(os.getcwd())"
   ]
  },
  {
   "cell_type": "code",
   "execution_count": 10,
   "id": "7da5fa81",
   "metadata": {},
   "outputs": [
    {
     "name": "stdout",
     "output_type": "stream",
     "text": [
      "folder deleted successfully\n"
     ]
    }
   ],
   "source": [
    "os.rmdir(\"Data science\")\n",
    "print(\"folder deleted successfully\")"
   ]
  },
  {
   "cell_type": "code",
   "execution_count": 11,
   "id": "732f7140",
   "metadata": {},
   "outputs": [
    {
     "data": {
      "text/plain": [
       "['os.ipynb']"
      ]
     },
     "execution_count": 11,
     "metadata": {},
     "output_type": "execute_result"
    }
   ],
   "source": [
    "os.listdir(os.getcwd())"
   ]
  },
  {
   "cell_type": "code",
   "execution_count": null,
   "id": "5dd5768c",
   "metadata": {},
   "outputs": [],
   "source": [
    "# os.remove(\"file name \")\n"
   ]
  },
  {
   "cell_type": "code",
   "execution_count": 12,
   "id": "fa19d958",
   "metadata": {},
   "outputs": [
    {
     "data": {
      "text/plain": [
       "'c:\\\\Users\\\\kumaw\\\\OneDrive\\\\Desktop\\\\Data science 1 july\\\\os'"
      ]
     },
     "execution_count": 12,
     "metadata": {},
     "output_type": "execute_result"
    }
   ],
   "source": [
    "os.getcwd()"
   ]
  },
  {
   "cell_type": "code",
   "execution_count": 13,
   "id": "016f197c",
   "metadata": {},
   "outputs": [
    {
     "name": "stdout",
     "output_type": "stream",
     "text": [
      "path exist:- None\n"
     ]
    }
   ],
   "source": [
    "path = r\"c:\\\\Users\\\\kumaw\\\\OneDrive\\\\Desktop\\\\Data science 1 july\\\\os\"\n",
    "path =os.environ.get(path)\n",
    "print(\"path exist:-\", path )"
   ]
  },
  {
   "cell_type": "code",
   "execution_count": 15,
   "id": "c3c8de6f",
   "metadata": {},
   "outputs": [],
   "source": [
    "# os.system(path) ### system command "
   ]
  },
  {
   "cell_type": "code",
   "execution_count": 17,
   "id": "95ebbaa9",
   "metadata": {},
   "outputs": [
    {
     "data": {
      "text/plain": [
       "False"
      ]
     },
     "execution_count": 17,
     "metadata": {},
     "output_type": "execute_result"
    }
   ],
   "source": [
    "path = r\"C:\\Users\\kumaw\\OneDrive\\Desktop\\Data science 1 july\\python\\govind.ipynb\"\n",
    "os.path.isfile(path)"
   ]
  },
  {
   "cell_type": "code",
   "execution_count": 19,
   "id": "698e8909",
   "metadata": {},
   "outputs": [
    {
     "data": {
      "text/plain": [
       "False"
      ]
     },
     "execution_count": 19,
     "metadata": {},
     "output_type": "execute_result"
    }
   ],
   "source": [
    "path = r\"C:\\Users\\kumaw\\OneDrive\\Desktop\\Data science 1 july\\govind\"\n",
    "os.path.isdir(path)"
   ]
  },
  {
   "cell_type": "code",
   "execution_count": 21,
   "id": "ef651d69",
   "metadata": {},
   "outputs": [
    {
     "name": "stdout",
     "output_type": "stream",
     "text": [
      "C:\\Users\\kumaw\\OneDrive\\Desktop\\Data science 1 july\\python\n"
     ]
    },
    {
     "data": {
      "text/plain": [
       "['basic.py',\n",
       " 'conditional.ipynb',\n",
       " 'demo.txt',\n",
       " 'exception.ipynb',\n",
       " 'file_handling.ipynb',\n",
       " 'function.ipynb',\n",
       " 'looping.ipynb',\n",
       " 'oops.ipynb',\n",
       " 'text.txt',\n",
       " 'upflairs.txt']"
      ]
     },
     "execution_count": 21,
     "metadata": {},
     "output_type": "execute_result"
    }
   ],
   "source": [
    "path1 = r\"C:\\Users\\kumaw\\OneDrive\"\n",
    "path2 = r\"Desktop\\Data science 1 july\\python\"\n",
    "complete_path =os.path.join(path1, path2)\n",
    "print(complete_path)\n",
    "os.listdir(complete_path)"
   ]
  },
  {
   "cell_type": "code",
   "execution_count": 22,
   "id": "89205ad7",
   "metadata": {},
   "outputs": [
    {
     "name": "stdout",
     "output_type": "stream",
     "text": [
      "size of the file (in bytes):- 5946\n"
     ]
    }
   ],
   "source": [
    "path = r\"C:\\Users\\kumaw\\OneDrive\\Desktop\\Data science 1 july\\python\\looping.ipynb\"\n",
    "size =os.path.getsize(path)\n",
    "print(\"size of the file (in bytes):-\",size)"
   ]
  },
  {
   "cell_type": "code",
   "execution_count": 23,
   "id": "e204b418",
   "metadata": {},
   "outputs": [
    {
     "name": "stdout",
     "output_type": "stream",
     "text": [
      "before dir  c:\\Users\\kumaw\\OneDrive\\Desktop\\Data science 1 july\\os\n",
      "after dir  C:\\Users\\kumaw\\OneDrive\\Desktop\\Data science 1 july\\python\n"
     ]
    }
   ],
   "source": [
    "print(\"before dir \",os.getcwd())\n",
    "os.chdir(r\"C:\\Users\\kumaw\\OneDrive\\Desktop\\Data science 1 july\\python\")\n",
    "print(\"after dir \",os.getcwd())"
   ]
  },
  {
   "cell_type": "code",
   "execution_count": null,
   "id": "b0d8325b",
   "metadata": {},
   "outputs": [],
   "source": []
  }
 ],
 "metadata": {
  "kernelspec": {
   "display_name": "Python 3",
   "language": "python",
   "name": "python3"
  },
  "language_info": {
   "codemirror_mode": {
    "name": "ipython",
    "version": 3
   },
   "file_extension": ".py",
   "mimetype": "text/x-python",
   "name": "python",
   "nbconvert_exporter": "python",
   "pygments_lexer": "ipython3",
   "version": "3.11.5"
  }
 },
 "nbformat": 4,
 "nbformat_minor": 5
}
