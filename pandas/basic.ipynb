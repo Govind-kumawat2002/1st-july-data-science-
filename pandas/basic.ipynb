{
 "cells": [
  {
   "cell_type": "markdown",
   "id": "6e7257d4",
   "metadata": {},
   "source": [
    "* Pandas is a powerful and easy-to-use data analysis and manipulation library for Python. It is especially useful when working with structured data (like tables, Excel files, or SQL results).\n",
    "\n",
    "\n",
    "| Feature                 | Description                                                     |\n",
    "| ----------------------- | --------------------------------------------------------------- |\n",
    "| **DataFrame & Series**  | Core data structures to store tabular and one-dimensional data. |\n",
    "| **Read/Write Files**    | Load data from CSV, Excel, SQL, JSON, etc.                      |\n",
    "| **Data Cleaning**       | Handle missing values, remove duplicates, filter rows.          |\n",
    "| **Data Manipulation**   | Merge, join, group, sort, pivot, and reshape data.              |\n",
    "| **Statistics**          | Built-in functions like mean, median, standard deviation.       |\n",
    "| **Time Series Support** | Great tools for handling date and time data.                    |\n"
   ]
  },
  {
   "cell_type": "code",
   "execution_count": 1,
   "id": "0f73c085",
   "metadata": {},
   "outputs": [],
   "source": [
    "import pandas as pd "
   ]
  },
  {
   "cell_type": "code",
   "execution_count": null,
   "id": "56456857",
   "metadata": {},
   "outputs": [],
   "source": []
  }
 ],
 "metadata": {
  "kernelspec": {
   "display_name": "Python 3",
   "language": "python",
   "name": "python3"
  },
  "language_info": {
   "codemirror_mode": {
    "name": "ipython",
    "version": 3
   },
   "file_extension": ".py",
   "mimetype": "text/x-python",
   "name": "python",
   "nbconvert_exporter": "python",
   "pygments_lexer": "ipython3",
   "version": "3.11.5"
  }
 },
 "nbformat": 4,
 "nbformat_minor": 5
}
