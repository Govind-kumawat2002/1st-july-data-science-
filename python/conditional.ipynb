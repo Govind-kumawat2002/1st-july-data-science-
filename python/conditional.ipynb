{
 "cells": [
  {
   "cell_type": "markdown",
   "id": "250b81a2",
   "metadata": {},
   "source": [
    "#### CONDITIONAL STATEMENT\n",
    "* if , else , elif\n",
    "\n",
    "\n",
    "        A conditional statement in programming is a control structure that allows a program to execute different blocks of code based on specific conditions. It enables the program to make decisions and choose between alternative actions.\n",
    "\n",
    "*Syntax* :-\n",
    "\n",
    "if condition1:\n",
    "    # Code to execute if condition1 is true\n",
    "\n",
    "\n",
    "elif condition2:\n",
    "    # Code to execute if condition2 is true\n",
    "\n",
    "\n",
    "else:\n",
    "    # Code to execute if none of the conditions are true\n",
    "\n"
   ]
  },
  {
   "cell_type": "code",
   "execution_count": 5,
   "id": "761b2986",
   "metadata": {},
   "outputs": [],
   "source": [
    "#if condition1:\n",
    "\n",
    "    # Code to execute if condition1 is true\n",
    "\n",
    "\n",
    "#elif condition2:\n",
    "    # Code to execute if condition2 is true\n",
    "\n",
    "\n",
    "#else:\n",
    "    # Code to execute if none of the conditions are true\n"
   ]
  },
  {
   "cell_type": "code",
   "execution_count": null,
   "id": "6e5049a3",
   "metadata": {},
   "outputs": [
    {
     "name": "stdout",
     "output_type": "stream",
     "text": [
      "x hai vo chota hai 10 \n"
     ]
    }
   ],
   "source": [
    "x = 0\n",
    "if x<10: ## condition \n",
    "    print(\"x hai vo chota hai 10 \")  #### block of code "
   ]
  },
  {
   "cell_type": "code",
   "execution_count": 8,
   "id": "5197165a",
   "metadata": {},
   "outputs": [
    {
     "name": "stdout",
     "output_type": "stream",
     "text": [
      "x hai vo bda  hai 10 se  \n"
     ]
    }
   ],
   "source": [
    "x = 20\n",
    "if x<10: ## condition  20<10\n",
    "    print(\"x hai vo chota hai 10 \")\n",
    "\n",
    "else:\n",
    "    print(\"x hai vo bda  hai 10 se  \")"
   ]
  },
  {
   "cell_type": "code",
   "execution_count": 9,
   "id": "e8655dae",
   "metadata": {},
   "outputs": [
    {
     "name": "stdout",
     "output_type": "stream",
     "text": [
      "x ki value hai vo 20 hai \n"
     ]
    }
   ],
   "source": [
    "x = 20\n",
    "if x<10: ## condition  20<10\n",
    "    print(\"x hai vo chota hai 10 \")\n",
    "\n",
    "elif x == 20:\n",
    "    print(\"x ki value hai vo 20 hai \")\n",
    "\n",
    "\n",
    "else:\n",
    "    print(\"x hai vo bda  hai 10 se  \")"
   ]
  },
  {
   "cell_type": "code",
   "execution_count": null,
   "id": "cc8492a0",
   "metadata": {},
   "outputs": [],
   "source": [
    "# task 2 \n",
    "\n",
    "# Find the Largest Number\n",
    "# Check Even or Odd\n",
    "# Leap Year Checker\n",
    "# Grading System\n",
    "# 90 and above: Grade A\n",
    "\n",
    "# 75 to 89: Grade B\n",
    "\n",
    "# 60 to 74: Grade C\n",
    "\n",
    "# # Below 60: Grade D\n",
    "# Find Largest of Three Numbers\n",
    "\n",
    "# Traffic Light System\n",
    "# Write a program that takes the color of a traffic light as input (red, yellow, green) and prints the corresponding action:\n",
    "\n",
    "# Red → Stop\n",
    "\n",
    "# Yellow → Wait\n",
    "\n",
    "# Green → Go\n"
   ]
  },
  {
   "cell_type": "code",
   "execution_count": 10,
   "id": "b095a15d",
   "metadata": {},
   "outputs": [
    {
     "name": "stdout",
     "output_type": "stream",
     "text": [
      "x ki value hai vo 20 hai \n"
     ]
    }
   ],
   "source": [
    "x = 20\n",
    "if (x<10): ## condition  20<10\n",
    "    print(\"x hai vo chota hai 10 \")\n",
    "\n",
    "elif (x == 20):\n",
    "    print(\"x ki value hai vo 20 hai \")\n",
    "\n",
    "\n",
    "else:\n",
    "    print(\"x hai vo bda  hai 10 se  \")\n"
   ]
  },
  {
   "cell_type": "code",
   "execution_count": null,
   "id": "51ad90f7",
   "metadata": {},
   "outputs": [],
   "source": []
  }
 ],
 "metadata": {
  "kernelspec": {
   "display_name": "Python 3",
   "language": "python",
   "name": "python3"
  },
  "language_info": {
   "codemirror_mode": {
    "name": "ipython",
    "version": 3
   },
   "file_extension": ".py",
   "mimetype": "text/x-python",
   "name": "python",
   "nbconvert_exporter": "python",
   "pygments_lexer": "ipython3",
   "version": "3.11.5"
  }
 },
 "nbformat": 4,
 "nbformat_minor": 5
}
