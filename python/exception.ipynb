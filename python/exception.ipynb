{
 "cells": [
  {
   "cell_type": "markdown",
   "id": "686050a9",
   "metadata": {},
   "source": []
  },
  {
   "cell_type": "code",
   "execution_count": 1,
   "id": "62936142",
   "metadata": {},
   "outputs": [],
   "source": [
    "try :\n",
    "    pass  ## main code\n",
    "except:\n",
    "    pass  ### error handler\n",
    "else :\n",
    "    pass ### multiple error\n",
    "finally:\n",
    "    pass ##koi chale na chale me to chalunga \n",
    " "
   ]
  },
  {
   "cell_type": "code",
   "execution_count": null,
   "id": "d9b8ae64",
   "metadata": {},
   "outputs": [
    {
     "name": "stdout",
     "output_type": "stream",
     "text": [
      "invalid input invalid literal for int() with base 10: 'sdf'\n"
     ]
    }
   ],
   "source": [
    "try:\n",
    "    a = int(input(\"enter a number \"))\n",
    "    b = int(input(\"enter second number \"))\n",
    "    print(a*b)\n",
    "except ValueError as e:\n",
    "    print(\"invalid input\", e)\n",
    "\n",
    "\n",
    "# python error handling\n"
   ]
  },
  {
   "cell_type": "code",
   "execution_count": 8,
   "id": "61f0131d",
   "metadata": {},
   "outputs": [
    {
     "name": "stdout",
     "output_type": "stream",
     "text": [
      "2.0\n"
     ]
    }
   ],
   "source": [
    "try:\n",
    "    a = int(input(\"enter a number \"))\n",
    "    b = int(input(\"enter second number \"))\n",
    "    print(a/b)\n",
    "except ZeroDivisionError as e:\n",
    "    print(e)\n",
    "\n",
    "\n",
    "# python error handling\n"
   ]
  },
  {
   "cell_type": "code",
   "execution_count": 10,
   "id": "36a433f9",
   "metadata": {},
   "outputs": [
    {
     "name": "stdout",
     "output_type": "stream",
     "text": [
      "invalid literal for int() with base 10: 'sdfgbnm'\n"
     ]
    }
   ],
   "source": [
    "try:\n",
    "    a = int(input(\"enter a number \"))\n",
    "    b = int(input(\"enter second number \"))\n",
    "    print(a/b)\n",
    "except Exception as e:\n",
    "    print(e)\n",
    "\n",
    "\n",
    "# python error handling"
   ]
  },
  {
   "cell_type": "code",
   "execution_count": 18,
   "id": "fff39928",
   "metadata": {},
   "outputs": [
    {
     "name": "stdout",
     "output_type": "stream",
     "text": [
      "division by zero\n",
      "koi chale na chale me to chalunga\n"
     ]
    }
   ],
   "source": [
    "try:\n",
    "    a =int(input(\"enter a number \"))\n",
    "    b = int(input(\"enter second number \"))\n",
    "    print(a/b)\n",
    "except Exception as e:\n",
    "    print(e)\n",
    "else :\n",
    "    print(\"no error\")\n",
    "    print(a*b)\n",
    "    \n",
    "finally:\n",
    "    print(\"koi chale na chale me to chalunga\")"
   ]
  },
  {
   "cell_type": "code",
   "execution_count": 21,
   "id": "8a892184",
   "metadata": {},
   "outputs": [
    {
     "name": "stdout",
     "output_type": "stream",
     "text": [
      "invalid literal for int() with base 10: 'sdfv'\n",
      "Thanks for using our service\n"
     ]
    }
   ],
   "source": [
    "try:\n",
    "    num1 =int(input(\"enter a number \"))\n",
    "    num2 =int(input(\"enter second number \"))\n",
    "    result =num1/num2\n",
    "except ZeroDivisionError as e:\n",
    "    print(e)\n",
    "except ValueError as e:\n",
    "    print(e)\n",
    "except Exception as e:\n",
    "    print(e)\n",
    "else :\n",
    "    print(\"final_result:-\",result)\n",
    "finally:\n",
    "    print(\"Thanks for using our service\")"
   ]
  },
  {
   "cell_type": "code",
   "execution_count": null,
   "id": "d099cf3e",
   "metadata": {},
   "outputs": [],
   "source": []
  }
 ],
 "metadata": {
  "kernelspec": {
   "display_name": "Python 3",
   "language": "python",
   "name": "python3"
  },
  "language_info": {
   "codemirror_mode": {
    "name": "ipython",
    "version": 3
   },
   "file_extension": ".py",
   "mimetype": "text/x-python",
   "name": "python",
   "nbconvert_exporter": "python",
   "pygments_lexer": "ipython3",
   "version": "3.11.5"
  }
 },
 "nbformat": 4,
 "nbformat_minor": 5
}
