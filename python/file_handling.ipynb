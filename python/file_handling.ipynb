{
 "cells": [
  {
   "cell_type": "markdown",
   "id": "4fe6b5e7",
   "metadata": {},
   "source": [
    "### **File handling** \n",
    "\n",
    "| Mode   | Description                                                  |\n",
    "| ------ | ------------------------------------------------------------ |\n",
    "| `\"r\"`  | Read mode (default), error if file doesn't exist             |\n",
    "| `\"w\"`  | Write mode, creates a file if not exist, overwrites existing |\n",
    "| `\"a\"`  | Append mode, adds content to end of file                     |\n",
    "| `\"x\"`  | Create mode, error if file already exists                    |\n",
    "                                         |\n"
   ]
  },
  {
   "cell_type": "code",
   "execution_count": null,
   "id": "adbf146e",
   "metadata": {},
   "outputs": [],
   "source": [
    "file =open('demo.txt', 'r')   ### r for read and demo.txt is name of file\n",
    "file.read()  #### it will read the file\n",
    "file.close()  #### it will close the file"
   ]
  },
  {
   "cell_type": "code",
   "execution_count": 6,
   "id": "5d99d67c",
   "metadata": {},
   "outputs": [],
   "source": [
    "file =open('demo.txt', 'r')\n",
    "file.readline() ### it will read the first line of the file\n",
    "file.close()"
   ]
  },
  {
   "cell_type": "code",
   "execution_count": 9,
   "id": "a263e9ba",
   "metadata": {},
   "outputs": [],
   "source": [
    "file =open('demo.txt', 'r') ### it will append the file\n",
    "# file.readlines() ### it will read all the lines of the file\n",
    "file.close()"
   ]
  },
  {
   "cell_type": "code",
   "execution_count": 11,
   "id": "272ca717",
   "metadata": {},
   "outputs": [],
   "source": [
    "file =open('demo.txt', 'w') ### w for write mode and demo.txt is name of file\n",
    "# file.read()  #### it will read the file\n",
    "file.write(\"Hello world\")  #### it will write the file\n",
    "file.close()"
   ]
  },
  {
   "cell_type": "code",
   "execution_count": 13,
   "id": "91dc5fdf",
   "metadata": {},
   "outputs": [],
   "source": [
    "file =open('demo.txt', 'r')\n",
    "file.read()\n",
    "file.close()"
   ]
  },
  {
   "cell_type": "code",
   "execution_count": 14,
   "id": "56922af1",
   "metadata": {},
   "outputs": [],
   "source": [
    "### apend mode\n",
    "file =open(\"demo.txt\", 'a')\n",
    "file.write(\"hello bhai kese ho \")\n",
    "file.close()\n"
   ]
  },
  {
   "cell_type": "code",
   "execution_count": 16,
   "id": "c61b83fc",
   "metadata": {},
   "outputs": [],
   "source": [
    "file =open(\"demo.txt\", 'r')\n",
    "file.close()"
   ]
  },
  {
   "cell_type": "code",
   "execution_count": 24,
   "id": "c8236f31",
   "metadata": {},
   "outputs": [],
   "source": [
    "file =open(\"text.txt\", 'a')\n",
    "file.write(\"apend mode kaa kam ye hota hai ki agr esko file milti hai to te usi file ke ander append krdega agr esko file nhi milti hai to create kr dega \")\n",
    "file.close()"
   ]
  },
  {
   "cell_type": "code",
   "execution_count": 19,
   "id": "2af345e2",
   "metadata": {},
   "outputs": [
    {
     "data": {
      "text/plain": [
       "'hello bhai kese ho  or kha se ho apend mode kaa kam ye hota hai ki agr esko file milti hai to te usi file ke ander append krdega agr esko file nhi milti hai to create kr dega '"
      ]
     },
     "execution_count": 19,
     "metadata": {},
     "output_type": "execute_result"
    }
   ],
   "source": [
    "open(\"text.txt\", 'r').read()"
   ]
  },
  {
   "cell_type": "code",
   "execution_count": 22,
   "id": "a27355f6",
   "metadata": {},
   "outputs": [
    {
     "ename": "FileExistsError",
     "evalue": "[Errno 17] File exists: 'upflairs.txt'",
     "output_type": "error",
     "traceback": [
      "\u001b[1;31m---------------------------------------------------------------------------\u001b[0m",
      "\u001b[1;31mFileExistsError\u001b[0m                           Traceback (most recent call last)",
      "Cell \u001b[1;32mIn[22], line 5\u001b[0m\n\u001b[0;32m      1\u001b[0m \u001b[38;5;66;03m### create mode\u001b[39;00m\n\u001b[1;32m----> 5\u001b[0m file \u001b[38;5;241m=\u001b[39m\u001b[38;5;28;43mopen\u001b[39;49m\u001b[43m(\u001b[49m\u001b[38;5;124;43m\"\u001b[39;49m\u001b[38;5;124;43mupflairs.txt\u001b[39;49m\u001b[38;5;124;43m\"\u001b[39;49m\u001b[43m,\u001b[49m\u001b[43m \u001b[49m\u001b[38;5;124;43m'\u001b[39;49m\u001b[38;5;124;43mx\u001b[39;49m\u001b[38;5;124;43m'\u001b[39;49m\u001b[43m)\u001b[49m\n\u001b[0;32m      6\u001b[0m file\u001b[38;5;241m.\u001b[39mwrite(\u001b[38;5;124m\"\u001b[39m\u001b[38;5;124mhello kesa lga upflairs aake \u001b[39m\u001b[38;5;124m\"\u001b[39m)\n\u001b[0;32m      7\u001b[0m file\u001b[38;5;241m.\u001b[39mclose()\n",
      "File \u001b[1;32m~\\AppData\\Roaming\\Python\\Python311\\site-packages\\IPython\\core\\interactiveshell.py:324\u001b[0m, in \u001b[0;36m_modified_open\u001b[1;34m(file, *args, **kwargs)\u001b[0m\n\u001b[0;32m    317\u001b[0m \u001b[38;5;28;01mif\u001b[39;00m file \u001b[38;5;129;01min\u001b[39;00m {\u001b[38;5;241m0\u001b[39m, \u001b[38;5;241m1\u001b[39m, \u001b[38;5;241m2\u001b[39m}:\n\u001b[0;32m    318\u001b[0m     \u001b[38;5;28;01mraise\u001b[39;00m \u001b[38;5;167;01mValueError\u001b[39;00m(\n\u001b[0;32m    319\u001b[0m         \u001b[38;5;124mf\u001b[39m\u001b[38;5;124m\"\u001b[39m\u001b[38;5;124mIPython won\u001b[39m\u001b[38;5;124m'\u001b[39m\u001b[38;5;124mt let you open fd=\u001b[39m\u001b[38;5;132;01m{\u001b[39;00mfile\u001b[38;5;132;01m}\u001b[39;00m\u001b[38;5;124m by default \u001b[39m\u001b[38;5;124m\"\u001b[39m\n\u001b[0;32m    320\u001b[0m         \u001b[38;5;124m\"\u001b[39m\u001b[38;5;124mas it is likely to crash IPython. If you know what you are doing, \u001b[39m\u001b[38;5;124m\"\u001b[39m\n\u001b[0;32m    321\u001b[0m         \u001b[38;5;124m\"\u001b[39m\u001b[38;5;124myou can use builtins\u001b[39m\u001b[38;5;124m'\u001b[39m\u001b[38;5;124m open.\u001b[39m\u001b[38;5;124m\"\u001b[39m\n\u001b[0;32m    322\u001b[0m     )\n\u001b[1;32m--> 324\u001b[0m \u001b[38;5;28;01mreturn\u001b[39;00m \u001b[43mio_open\u001b[49m\u001b[43m(\u001b[49m\u001b[43mfile\u001b[49m\u001b[43m,\u001b[49m\u001b[43m \u001b[49m\u001b[38;5;241;43m*\u001b[39;49m\u001b[43margs\u001b[49m\u001b[43m,\u001b[49m\u001b[43m \u001b[49m\u001b[38;5;241;43m*\u001b[39;49m\u001b[38;5;241;43m*\u001b[39;49m\u001b[43mkwargs\u001b[49m\u001b[43m)\u001b[49m\n",
      "\u001b[1;31mFileExistsError\u001b[0m: [Errno 17] File exists: 'upflairs.txt'"
     ]
    }
   ],
   "source": [
    "### create mode\n",
    "\n",
    "\n",
    "\n",
    "file =open(\"upflairs.txt\", 'x')\n",
    "file.write(\"hello kesa lga upflairs aake \")\n",
    "file.close()\n",
    "# file.read()\n"
   ]
  },
  {
   "cell_type": "code",
   "execution_count": null,
   "id": "af4266f3",
   "metadata": {},
   "outputs": [],
   "source": []
  }
 ],
 "metadata": {
  "kernelspec": {
   "display_name": "Python 3",
   "language": "python",
   "name": "python3"
  },
  "language_info": {
   "codemirror_mode": {
    "name": "ipython",
    "version": 3
   },
   "file_extension": ".py",
   "mimetype": "text/x-python",
   "name": "python",
   "nbconvert_exporter": "python",
   "pygments_lexer": "ipython3",
   "version": "3.11.5"
  }
 },
 "nbformat": 4,
 "nbformat_minor": 5
}
