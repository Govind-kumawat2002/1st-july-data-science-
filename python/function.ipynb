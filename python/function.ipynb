{
 "cells": [
  {
   "cell_type": "code",
   "execution_count": null,
   "id": "8ecd1f75",
   "metadata": {},
   "outputs": [],
   "source": [
    "# Function \n",
    "# user define function\n",
    "# predefine function >>>>>>print, len , type , map , range, min , max, sum"
   ]
  },
  {
   "cell_type": "code",
   "execution_count": null,
   "id": "35942649",
   "metadata": {},
   "outputs": [],
   "source": [
    "def function_name():\n",
    "    pass\n",
    "\n",
    "# function_name>>>>>>>>>..function name \n",
    "# def is keyword\n",
    "# pass >>> placeholder"
   ]
  },
  {
   "cell_type": "code",
   "execution_count": null,
   "id": "30e2ea18",
   "metadata": {},
   "outputs": [],
   "source": [
    "def function_name():\n",
    "    pass\n",
    "    \n",
    "\n",
    "# function_name>>>>>>>>>..function name  define \n",
    "# def is keyword\n",
    "# pass >>> placeholder"
   ]
  },
  {
   "cell_type": "code",
   "execution_count": 4,
   "id": "aa432cb4",
   "metadata": {},
   "outputs": [],
   "source": [
    "def function_name():\n",
    "    pass\n",
    "    \n",
    "\n",
    "# function_name>>>>>>>>>..function name  define \n",
    "# def is keyword\n",
    "# pass >>> placeholder\n",
    "\n",
    "function_name() ## >>> calling function"
   ]
  },
  {
   "cell_type": "code",
   "execution_count": 6,
   "id": "802a20cd",
   "metadata": {},
   "outputs": [],
   "source": [
    "# def function_name():\n",
    "    \n",
    "## >>> calling function"
   ]
  },
  {
   "cell_type": "code",
   "execution_count": 13,
   "id": "497aafa0",
   "metadata": {},
   "outputs": [
    {
     "name": "stdout",
     "output_type": "stream",
     "text": [
      "hello\n"
     ]
    }
   ],
   "source": [
    "def display():\n",
    "    print(\"hello\")\n",
    "display()"
   ]
  },
  {
   "cell_type": "code",
   "execution_count": 8,
   "id": "a007b11b",
   "metadata": {},
   "outputs": [
    {
     "name": "stdout",
     "output_type": "stream",
     "text": [
      "hello\n"
     ]
    }
   ],
   "source": [
    "display()"
   ]
  },
  {
   "cell_type": "code",
   "execution_count": 9,
   "id": "11f828e8",
   "metadata": {},
   "outputs": [
    {
     "name": "stdout",
     "output_type": "stream",
     "text": [
      "hello\n"
     ]
    }
   ],
   "source": [
    "display()"
   ]
  },
  {
   "cell_type": "code",
   "execution_count": 10,
   "id": "2308a8bc",
   "metadata": {},
   "outputs": [
    {
     "name": "stdout",
     "output_type": "stream",
     "text": [
      "hello\n"
     ]
    }
   ],
   "source": [
    "display()"
   ]
  },
  {
   "cell_type": "code",
   "execution_count": 11,
   "id": "9eea7e37",
   "metadata": {},
   "outputs": [
    {
     "name": "stdout",
     "output_type": "stream",
     "text": [
      "hello\n"
     ]
    }
   ],
   "source": [
    "display()"
   ]
  },
  {
   "cell_type": "code",
   "execution_count": 12,
   "id": "c457b980",
   "metadata": {},
   "outputs": [
    {
     "name": "stdout",
     "output_type": "stream",
     "text": [
      "hello\n"
     ]
    }
   ],
   "source": [
    "display()"
   ]
  },
  {
   "cell_type": "code",
   "execution_count": null,
   "id": "98d28149",
   "metadata": {},
   "outputs": [
    {
     "name": "stdout",
     "output_type": "stream",
     "text": [
      "30\n"
     ]
    }
   ],
   "source": [
    "def add():\n",
    "    a = 10\n",
    "    b = 20\n",
    "    print(a+b)\n",
    "add()"
   ]
  },
  {
   "cell_type": "code",
   "execution_count": 15,
   "id": "64518f4d",
   "metadata": {},
   "outputs": [
    {
     "name": "stdout",
     "output_type": "stream",
     "text": [
      "30\n"
     ]
    }
   ],
   "source": [
    "add()"
   ]
  },
  {
   "cell_type": "code",
   "execution_count": 16,
   "id": "be2f3f6d",
   "metadata": {},
   "outputs": [
    {
     "name": "stdout",
     "output_type": "stream",
     "text": [
      "30\n"
     ]
    }
   ],
   "source": [
    "def add(a,b):\n",
    "    print(a+b)\n",
    "add(a = 10 , b = 20)"
   ]
  },
  {
   "cell_type": "code",
   "execution_count": 18,
   "id": "c1be4d30",
   "metadata": {},
   "outputs": [
    {
     "name": "stdout",
     "output_type": "stream",
     "text": [
      "30\n"
     ]
    }
   ],
   "source": [
    "def add(a,b):\n",
    "    print(a+b)\n",
    "add(10, 20)"
   ]
  },
  {
   "cell_type": "code",
   "execution_count": 23,
   "id": "15bcb60c",
   "metadata": {},
   "outputs": [],
   "source": [
    "def display(name , age, address= \"jaipur\"):\n",
    "    print(f\"my name is {name} and my {age} and i am from {address}\")\n"
   ]
  },
  {
   "cell_type": "code",
   "execution_count": 20,
   "id": "5b3d8f67",
   "metadata": {},
   "outputs": [
    {
     "name": "stdout",
     "output_type": "stream",
     "text": [
      "my name is ritik and my 22 and my jaipur\n"
     ]
    }
   ],
   "source": [
    "display(\"ritik\", 22)"
   ]
  },
  {
   "cell_type": "code",
   "execution_count": 24,
   "id": "998ea0e6",
   "metadata": {},
   "outputs": [
    {
     "name": "stdout",
     "output_type": "stream",
     "text": [
      "my name is ritik and my 22 and i am from kunbha marg\n"
     ]
    }
   ],
   "source": [
    "display(\"ritik\", 22, \"kunbha marg\")\n"
   ]
  },
  {
   "cell_type": "code",
   "execution_count": 27,
   "id": "92f4af1c",
   "metadata": {},
   "outputs": [],
   "source": [
    "# lambda function\n",
    "# lambda >>>>> keyword\n",
    "# lambda is anonymous function\n",
    "# it is used  for single line function\n",
    "# it is used for short function\n",
    "# it is used for one line function\n",
    "# it is used for one line function\n"
   ]
  },
  {
   "cell_type": "code",
   "execution_count": 28,
   "id": "550b0444",
   "metadata": {},
   "outputs": [
    {
     "data": {
      "text/plain": [
       "30"
      ]
     },
     "execution_count": 28,
     "metadata": {},
     "output_type": "execute_result"
    }
   ],
   "source": [
    "add =lambda a , b : a+b\n",
    "add(10,20)"
   ]
  },
  {
   "cell_type": "code",
   "execution_count": 29,
   "id": "e87b9b50",
   "metadata": {},
   "outputs": [
    {
     "data": {
      "text/plain": [
       "100"
      ]
     },
     "execution_count": 29,
     "metadata": {},
     "output_type": "execute_result"
    }
   ],
   "source": [
    "square=lambda a  : a**2\n",
    "square(10)"
   ]
  },
  {
   "cell_type": "code",
   "execution_count": null,
   "id": "5cf08dd7",
   "metadata": {},
   "outputs": [],
   "source": []
  }
 ],
 "metadata": {
  "kernelspec": {
   "display_name": "Python 3",
   "language": "python",
   "name": "python3"
  },
  "language_info": {
   "codemirror_mode": {
    "name": "ipython",
    "version": 3
   },
   "file_extension": ".py",
   "mimetype": "text/x-python",
   "name": "python",
   "nbconvert_exporter": "python",
   "pygments_lexer": "ipython3",
   "version": "3.11.5"
  }
 },
 "nbformat": 4,
 "nbformat_minor": 5
}
