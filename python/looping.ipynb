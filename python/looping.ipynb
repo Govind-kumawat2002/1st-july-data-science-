{
 "cells": [
  {
   "cell_type": "markdown",
   "id": "7e67211d",
   "metadata": {},
   "source": [
    "##### looping in python \n",
    "\n",
    "    In Python, loops are control structures that allow you to execute a block of code repeatedly. There are two main types of loops: -\n",
    "\n",
    "For\n",
    "\n",
    "While\n"
   ]
  },
  {
   "cell_type": "code",
   "execution_count": 1,
   "id": "44723978",
   "metadata": {},
   "outputs": [
    {
     "name": "stdout",
     "output_type": "stream",
     "text": [
      "b\n",
      "h\n",
      "u\n",
      "p\n",
      "e\n",
      "s\n",
      "h\n"
     ]
    }
   ],
   "source": [
    "\n",
    "# for\n",
    "# while\n",
    "# \"bhupesh\"\n",
    "for x in \"bhupesh\":\n",
    "    print(x)"
   ]
  },
  {
   "cell_type": "code",
   "execution_count": 2,
   "id": "9af8c812",
   "metadata": {},
   "outputs": [
    {
     "name": "stdout",
     "output_type": "stream",
     "text": [
      "1\n",
      "2\n",
      "3\n",
      "4\n",
      "5\n"
     ]
    }
   ],
   "source": [
    "lst = [1,2,3,4,5]\n",
    "for x in lst:\n",
    "    print(x )"
   ]
  },
  {
   "cell_type": "code",
   "execution_count": 3,
   "id": "52fd52aa",
   "metadata": {},
   "outputs": [
    {
     "name": "stdout",
     "output_type": "stream",
     "text": [
      "0\n",
      "1\n",
      "2\n",
      "3\n",
      "4\n",
      "5\n",
      "6\n",
      "7\n",
      "8\n",
      "9\n"
     ]
    }
   ],
   "source": [
    "# range()\n",
    "for x in range(10):\n",
    "    print(x )"
   ]
  },
  {
   "cell_type": "code",
   "execution_count": 4,
   "id": "cc525f70",
   "metadata": {},
   "outputs": [
    {
     "name": "stdout",
     "output_type": "stream",
     "text": [
      "1\n",
      "2\n",
      "3\n",
      "4\n",
      "5\n",
      "6\n",
      "7\n",
      "8\n",
      "9\n"
     ]
    }
   ],
   "source": [
    "for x in range(1,10):\n",
    "    print(x )"
   ]
  },
  {
   "cell_type": "code",
   "execution_count": 5,
   "id": "bd2c8c21",
   "metadata": {},
   "outputs": [
    {
     "name": "stdout",
     "output_type": "stream",
     "text": [
      "2\n",
      "4\n",
      "6\n",
      "8\n",
      "10\n",
      "12\n",
      "14\n",
      "16\n",
      "18\n",
      "20\n"
     ]
    }
   ],
   "source": [
    "for x in range(2,22,2):\n",
    "    print(x ) ### start point and second ending and 2 gap "
   ]
  },
  {
   "cell_type": "code",
   "execution_count": 6,
   "id": "97ec05b2",
   "metadata": {},
   "outputs": [],
   "source": [
    "my_dict = {\"name\":\"govind\",\n",
    "\"class\":\"1st class\",\n",
    "\"rollnumber\":\"21eaycs055\",\n",
    "\"Address\":\"kuchaman city \"\n",
    "\n",
    "}"
   ]
  },
  {
   "cell_type": "code",
   "execution_count": 7,
   "id": "4e97ae60",
   "metadata": {},
   "outputs": [
    {
     "data": {
      "text/plain": [
       "{'name': 'govind',\n",
       " 'class': '1st class',\n",
       " 'rollnumber': '21eaycs055',\n",
       " 'Address': 'kuchaman city '}"
      ]
     },
     "execution_count": 7,
     "metadata": {},
     "output_type": "execute_result"
    }
   ],
   "source": [
    "my_dict"
   ]
  },
  {
   "cell_type": "code",
   "execution_count": 8,
   "id": "3df3605f",
   "metadata": {},
   "outputs": [
    {
     "name": "stdout",
     "output_type": "stream",
     "text": [
      "name\n",
      "class\n",
      "rollnumber\n",
      "Address\n"
     ]
    }
   ],
   "source": [
    "for item in my_dict:\n",
    "    print(item)"
   ]
  },
  {
   "cell_type": "code",
   "execution_count": 9,
   "id": "16827798",
   "metadata": {},
   "outputs": [
    {
     "name": "stdout",
     "output_type": "stream",
     "text": [
      "('name', 'govind')\n",
      "('class', '1st class')\n",
      "('rollnumber', '21eaycs055')\n",
      "('Address', 'kuchaman city ')\n"
     ]
    }
   ],
   "source": [
    "for item in my_dict.items():\n",
    "    print(item)"
   ]
  },
  {
   "cell_type": "code",
   "execution_count": 10,
   "id": "9e63d32d",
   "metadata": {},
   "outputs": [
    {
     "name": "stdout",
     "output_type": "stream",
     "text": [
      "name\n",
      "class\n",
      "rollnumber\n",
      "Address\n"
     ]
    }
   ],
   "source": [
    "for item in my_dict.keys():\n",
    "    print(item)"
   ]
  },
  {
   "cell_type": "code",
   "execution_count": 11,
   "id": "fc77ab1e",
   "metadata": {},
   "outputs": [
    {
     "name": "stdout",
     "output_type": "stream",
     "text": [
      "govind\n",
      "1st class\n",
      "21eaycs055\n",
      "kuchaman city \n"
     ]
    }
   ],
   "source": [
    "for item in my_dict.values():\n",
    "    print(item)"
   ]
  },
  {
   "cell_type": "markdown",
   "id": "aaa12f13",
   "metadata": {},
   "source": [
    "#### while loop "
   ]
  },
  {
   "cell_type": "code",
   "execution_count": 14,
   "id": "e00678a4",
   "metadata": {},
   "outputs": [],
   "source": [
    "# = and == and is \n",
    "# or and not\n",
    "# in and not in\n",
    "# pdke aana chahiye tha n \n",
    "\n"
   ]
  },
  {
   "cell_type": "code",
   "execution_count": 16,
   "id": "5464b141",
   "metadata": {},
   "outputs": [],
   "source": [
    "# a = 20\n",
    "# while a>10:\n",
    "#     print(a)\n",
    "#     a = a+1 \n",
    "\n",
    "\n",
    "# while True:\n",
    "#     print(\"hello\")\n",
    "    "
   ]
  },
  {
   "cell_type": "code",
   "execution_count": null,
   "id": "8c11fbab",
   "metadata": {},
   "outputs": [],
   "source": []
  }
 ],
 "metadata": {
  "kernelspec": {
   "display_name": "Python 3",
   "language": "python",
   "name": "python3"
  },
  "language_info": {
   "codemirror_mode": {
    "name": "ipython",
    "version": 3
   },
   "file_extension": ".py",
   "mimetype": "text/x-python",
   "name": "python",
   "nbconvert_exporter": "python",
   "pygments_lexer": "ipython3",
   "version": "3.11.5"
  }
 },
 "nbformat": 4,
 "nbformat_minor": 5
}
