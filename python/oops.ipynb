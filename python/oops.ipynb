{
 "cells": [
  {
   "cell_type": "markdown",
   "id": "a69c36b8",
   "metadata": {},
   "source": [
    "### oops concept in python "
   ]
  },
  {
   "cell_type": "code",
   "execution_count": 1,
   "id": "70548e28",
   "metadata": {},
   "outputs": [],
   "source": [
    "# global variable \n",
    "## local variable\n",
    "\n",
    "### polymorphism\n",
    "### inheritence\n",
    "### encapsulation\n",
    "### Abstraction"
   ]
  },
  {
   "cell_type": "code",
   "execution_count": 2,
   "id": "5bffd2e7",
   "metadata": {},
   "outputs": [],
   "source": [
    "class Class_name:\n",
    "    pass\n",
    "# class_name>>>>> class name \n",
    "# pass >>> placeholder\n",
    "# class is a keyword"
   ]
  },
  {
   "cell_type": "code",
   "execution_count": 3,
   "id": "33ff8440",
   "metadata": {},
   "outputs": [
    {
     "name": "stdout",
     "output_type": "stream",
     "text": [
      "my name is ritik and my age is 20\n"
     ]
    }
   ],
   "source": [
    "class Student:\n",
    "    name = \"ritik\"  ### class variable\n",
    "    age = 20  ### class variable\n",
    "    print(f\"my name is {name} and my age is {age}\")\n",
    "obj_st=Student() ##obj_st is object "
   ]
  },
  {
   "cell_type": "code",
   "execution_count": 4,
   "id": "694cbe5a",
   "metadata": {},
   "outputs": [
    {
     "data": {
      "text/plain": [
       "'ritik'"
      ]
     },
     "execution_count": 4,
     "metadata": {},
     "output_type": "execute_result"
    }
   ],
   "source": [
    "obj_st.name"
   ]
  },
  {
   "cell_type": "code",
   "execution_count": 5,
   "id": "699758f1",
   "metadata": {},
   "outputs": [
    {
     "data": {
      "text/plain": [
       "20"
      ]
     },
     "execution_count": 5,
     "metadata": {},
     "output_type": "execute_result"
    }
   ],
   "source": [
    "obj_st.age"
   ]
  },
  {
   "cell_type": "code",
   "execution_count": 6,
   "id": "bb5c1b0d",
   "metadata": {},
   "outputs": [],
   "source": [
    "class Student:\n",
    "    name = \"ritik\"  ### class variable\n",
    "    age = 20  ### class variable\n",
    "\n",
    "    def info(self):   ### info is method and self is parameter ya object keyword \n",
    "        print(\"this is my first method\")\n",
    "        print(\"how are you all\")\n",
    "\n",
    "\n",
    "dt_obj =Student()\n"
   ]
  },
  {
   "cell_type": "code",
   "execution_count": 7,
   "id": "9c326480",
   "metadata": {},
   "outputs": [
    {
     "name": "stdout",
     "output_type": "stream",
     "text": [
      "this is my first method\n",
      "how are you all\n"
     ]
    }
   ],
   "source": [
    "dt_obj.info()"
   ]
  },
  {
   "cell_type": "code",
   "execution_count": 8,
   "id": "bde7f598",
   "metadata": {},
   "outputs": [],
   "source": [
    "class Student:\n",
    "    name = \"ritik\"  ### class variable\n",
    "    age = 20  ### class variable\n",
    "\n",
    "    def info(self):\n",
    "        print(name)\n",
    "        print(age)   ### info is method and self is parameter ya object keyword \n",
    "       \n",
    "\n",
    "\n",
    "dt_obj =Student()\n"
   ]
  },
  {
   "cell_type": "code",
   "execution_count": 9,
   "id": "164a22d2",
   "metadata": {},
   "outputs": [
    {
     "ename": "NameError",
     "evalue": "name 'name' is not defined",
     "output_type": "error",
     "traceback": [
      "\u001b[1;31m---------------------------------------------------------------------------\u001b[0m",
      "\u001b[1;31mNameError\u001b[0m                                 Traceback (most recent call last)",
      "Cell \u001b[1;32mIn[9], line 1\u001b[0m\n\u001b[1;32m----> 1\u001b[0m \u001b[43mdt_obj\u001b[49m\u001b[38;5;241;43m.\u001b[39;49m\u001b[43minfo\u001b[49m\u001b[43m(\u001b[49m\u001b[43m)\u001b[49m\n",
      "Cell \u001b[1;32mIn[8], line 6\u001b[0m, in \u001b[0;36mStudent.info\u001b[1;34m(self)\u001b[0m\n\u001b[0;32m      5\u001b[0m \u001b[38;5;28;01mdef\u001b[39;00m \u001b[38;5;21minfo\u001b[39m(\u001b[38;5;28mself\u001b[39m):\n\u001b[1;32m----> 6\u001b[0m     \u001b[38;5;28mprint\u001b[39m(\u001b[43mname\u001b[49m)\n\u001b[0;32m      7\u001b[0m     \u001b[38;5;28mprint\u001b[39m(age)\n",
      "\u001b[1;31mNameError\u001b[0m: name 'name' is not defined"
     ]
    }
   ],
   "source": [
    "dt_obj.info()"
   ]
  },
  {
   "cell_type": "code",
   "execution_count": null,
   "id": "1b0d4622",
   "metadata": {},
   "outputs": [],
   "source": [
    "class Student:\n",
    "    name = \"ritik\"  ### class variable\n",
    "    age = 20  ### class variable\n",
    "\n",
    "    def info(self):\n",
    "        print(f\"my name is {self.name} and my age is {self.age}\")\n",
    "        # print(age)   ### info is method and self is parameter ya object keyword \n",
    "       \n",
    "\n",
    "\n",
    "dt_obj =Student()"
   ]
  },
  {
   "cell_type": "code",
   "execution_count": null,
   "id": "8b0c0da0",
   "metadata": {},
   "outputs": [
    {
     "name": "stdout",
     "output_type": "stream",
     "text": [
      "my name is ritik and my age is 20\n"
     ]
    }
   ],
   "source": [
    "dt_obj.info()"
   ]
  },
  {
   "cell_type": "markdown",
   "id": "bb8efa3f",
   "metadata": {},
   "source": [
    "### inheritence\n",
    "     types of inheritance \n",
    "* single inheritance\n",
    "* multiple inheritance\n",
    "* multilevel inheritance\n",
    "* hierarchical inheritance\n",
    "* hybrid inheritance"
   ]
  },
  {
   "cell_type": "code",
   "execution_count": null,
   "id": "43b2924f",
   "metadata": {},
   "outputs": [],
   "source": [
    "# class Collage:\n",
    "#     pass\n",
    "\n",
    "\n",
    "# class Student:\n",
    "#     pass"
   ]
  },
  {
   "cell_type": "code",
   "execution_count": null,
   "id": "f8ab8f1f",
   "metadata": {},
   "outputs": [],
   "source": [
    "### Single inheritance \n",
    "class Collage:\n",
    "    pass\n",
    "class Student(Collage):\n",
    "    pass\n"
   ]
  },
  {
   "cell_type": "code",
   "execution_count": null,
   "id": "fd49ae4d",
   "metadata": {},
   "outputs": [
    {
     "name": "stdout",
     "output_type": "stream",
     "text": [
      "Arya main campus \n",
      "khukas\n",
      "ritik\n",
      "1234\n"
     ]
    }
   ],
   "source": [
    "class Collage:\n",
    "    collage_name = \"Arya main campus \"\n",
    "    collage_address = \"khukas\"\n",
    "\n",
    "    def info(self):\n",
    "        print(self.collage_name)\n",
    "        print(self.collage_address)\n",
    "class Student(Collage):\n",
    "    student_name = \"ritik\"\n",
    "    student_id = \"1234\"\n",
    "st_obj =Student()\n",
    "print(st_obj.collage_name)\n",
    "print(st_obj.collage_address)\n",
    "print(st_obj.student_name)\n",
    "print(st_obj.student_id)\n"
   ]
  },
  {
   "cell_type": "code",
   "execution_count": null,
   "id": "04730d54",
   "metadata": {},
   "outputs": [
    {
     "name": "stdout",
     "output_type": "stream",
     "text": [
      "Arya main campus \n",
      "khukas\n"
     ]
    }
   ],
   "source": [
    "st_obj.info()"
   ]
  },
  {
   "cell_type": "code",
   "execution_count": null,
   "id": "ebb4858b",
   "metadata": {},
   "outputs": [
    {
     "name": "stdout",
     "output_type": "stream",
     "text": [
      "ritik\n",
      "1234\n",
      "Rohit kumar \n"
     ]
    }
   ],
   "source": [
    "#### multiple inheritance\n",
    "class Father:\n",
    "    father_name = \"ritik\"\n",
    "    father_id = \"1234\"\n",
    "class Uncle:\n",
    "    uncle_name = \"Rohit kumar \"\n",
    "class Child(Father,Uncle):\n",
    "    pass\n",
    "\n",
    "\n",
    "obj_child = Child()\n",
    "print(obj_child.father_name)\n",
    "print(obj_child.father_id)\n",
    "print(obj_child.uncle_name)\n"
   ]
  },
  {
   "cell_type": "code",
   "execution_count": null,
   "id": "f9bfcf4d",
   "metadata": {},
   "outputs": [
    {
     "name": "stdout",
     "output_type": "stream",
     "text": [
      "ritik\n",
      "1234\n",
      "Rohit kumar \n",
      "1234dfgfg\n"
     ]
    }
   ],
   "source": [
    "#### multilevel inheritance\n",
    "class Grandfather:\n",
    "    grandfather_name = \"ritik\"\n",
    "    grandfather_id = \"1234\"\n",
    "class Father(Grandfather):\n",
    "    father_name = \"Rohit kumar \"\n",
    "    father_id = \"1234dfgfg\"\n",
    "\n",
    "class Child(Father):\n",
    "    pass\n",
    "\n",
    "obj_child = Child()\n",
    "print(obj_child.grandfather_name)\n",
    "print(obj_child.grandfather_id)\n",
    "print(obj_child.father_name)\n",
    "print(obj_child.father_id)\n",
    "\n"
   ]
  },
  {
   "cell_type": "code",
   "execution_count": null,
   "id": "2d661974",
   "metadata": {},
   "outputs": [
    {
     "name": "stdout",
     "output_type": "stream",
     "text": [
      "hello\n"
     ]
    }
   ],
   "source": [
    "#### polymorphism\n",
    "print(\"hello\")"
   ]
  },
  {
   "cell_type": "code",
   "execution_count": null,
   "id": "765ec3ea",
   "metadata": {},
   "outputs": [
    {
     "name": "stdout",
     "output_type": "stream",
     "text": [
      "[1, 2, 3, 4, 5]\n"
     ]
    }
   ],
   "source": [
    "lst = [1,2,3,4,5]\n",
    "print(lst)"
   ]
  },
  {
   "cell_type": "code",
   "execution_count": null,
   "id": "0bfd0f5e",
   "metadata": {},
   "outputs": [
    {
     "data": {
      "text/plain": [
       "list"
      ]
     },
     "execution_count": 34,
     "metadata": {},
     "output_type": "execute_result"
    }
   ],
   "source": [
    "type(lst)"
   ]
  },
  {
   "cell_type": "code",
   "execution_count": null,
   "id": "5fd11db2",
   "metadata": {},
   "outputs": [
    {
     "data": {
      "text/plain": [
       "str"
      ]
     },
     "execution_count": 35,
     "metadata": {},
     "output_type": "execute_result"
    }
   ],
   "source": [
    "type(\"hello\")"
   ]
  },
  {
   "cell_type": "code",
   "execution_count": 10,
   "id": "8222b70e",
   "metadata": {},
   "outputs": [],
   "source": [
    "class Student:\n",
    "    pass "
   ]
  },
  {
   "cell_type": "code",
   "execution_count": 11,
   "id": "d004e6fc",
   "metadata": {},
   "outputs": [],
   "source": [
    "class Student:\n",
    "    pass "
   ]
  },
  {
   "cell_type": "code",
   "execution_count": 12,
   "id": "edf1be6e",
   "metadata": {},
   "outputs": [],
   "source": [
    "# = and == and is \n",
    "# in and not in \n",
    "# or and and  \n",
    "# while or for \n"
   ]
  },
  {
   "cell_type": "code",
   "execution_count": 17,
   "id": "2d8d2102",
   "metadata": {},
   "outputs": [],
   "source": [
    "### Encapsulation \n",
    "# private \n",
    "# public \n",
    "# protected\n",
    "class Student:\n",
    "    __name = \"ritik\" ### private variable\n",
    "    age = 20 ### public variable\n",
    "    _id = \"1234\" ### protected variable\n",
    "st_obj =Student()\n",
    "\n"
   ]
  },
  {
   "cell_type": "code",
   "execution_count": 18,
   "id": "f8d75a38",
   "metadata": {},
   "outputs": [
    {
     "data": {
      "text/plain": [
       "20"
      ]
     },
     "execution_count": 18,
     "metadata": {},
     "output_type": "execute_result"
    }
   ],
   "source": [
    "st_obj.age"
   ]
  },
  {
   "cell_type": "code",
   "execution_count": 21,
   "id": "c88b9e22",
   "metadata": {},
   "outputs": [
    {
     "data": {
      "text/plain": [
       "'ritik'"
      ]
     },
     "execution_count": 21,
     "metadata": {},
     "output_type": "execute_result"
    }
   ],
   "source": [
    "st_obj._Student__name"
   ]
  },
  {
   "cell_type": "code",
   "execution_count": 19,
   "id": "caea47ef",
   "metadata": {},
   "outputs": [
    {
     "data": {
      "text/plain": [
       "'1234'"
      ]
     },
     "execution_count": 19,
     "metadata": {},
     "output_type": "execute_result"
    }
   ],
   "source": [
    "st_obj._id"
   ]
  },
  {
   "cell_type": "code",
   "execution_count": 20,
   "id": "65712b45",
   "metadata": {},
   "outputs": [
    {
     "ename": "AttributeError",
     "evalue": "'Student' object has no attribute '__name'",
     "output_type": "error",
     "traceback": [
      "\u001b[1;31m---------------------------------------------------------------------------\u001b[0m",
      "\u001b[1;31mAttributeError\u001b[0m                            Traceback (most recent call last)",
      "Cell \u001b[1;32mIn[20], line 1\u001b[0m\n\u001b[1;32m----> 1\u001b[0m \u001b[43mst_obj\u001b[49m\u001b[38;5;241;43m.\u001b[39;49m\u001b[43m__name\u001b[49m\n",
      "\u001b[1;31mAttributeError\u001b[0m: 'Student' object has no attribute '__name'"
     ]
    }
   ],
   "source": [
    "st_obj.__name"
   ]
  },
  {
   "cell_type": "code",
   "execution_count": 22,
   "id": "d90ecf2f",
   "metadata": {},
   "outputs": [],
   "source": [
    "# bank \n",
    "\n",
    "# account number  private \n",
    "# name \n",
    "# address\n",
    "# phone number\n",
    "# method \n",
    "# total balance \n",
    "\n",
    "\n",
    "# class \n",
    "# method \n",
    "# inheritance \n",
    "\n",
    "\n",
    "# task 1 >>>> super function \n",
    "# task 2 >>>> Bmi calculator   class\n",
    "                \n",
    "\n",
    "\n",
    "\n",
    "\n",
    "\n"
   ]
  },
  {
   "cell_type": "code",
   "execution_count": 23,
   "id": "b43129fc",
   "metadata": {},
   "outputs": [],
   "source": [
    "class Bank:\n",
    "    __account_number = \"1234\"\n",
    "    name = \"ritik\"\n",
    "    address = \"khukas\"\n",
    "    phone_number = \"1234567890\"\n",
    "    balance = 0\n",
    "    def info(self):\n",
    "        print(\"this is bank class\")\n",
    "        print(\"my total balance is \", self.balance)\n",
    "\n",
    "obj_bank=Bank()        "
   ]
  },
  {
   "cell_type": "code",
   "execution_count": 24,
   "id": "b22be896",
   "metadata": {},
   "outputs": [
    {
     "name": "stdout",
     "output_type": "stream",
     "text": [
      "this is bank class\n",
      "my total balance is  0\n"
     ]
    }
   ],
   "source": [
    "obj_bank.info()"
   ]
  },
  {
   "cell_type": "code",
   "execution_count": 25,
   "id": "230ce7bb",
   "metadata": {},
   "outputs": [],
   "source": [
    "### contructor \n",
    "# init method \n",
    "# __init__\n",
    "\n",
    "\n",
    "class Student:\n",
    "    def __init__(self):\n",
    "        pass\n"
   ]
  },
  {
   "cell_type": "code",
   "execution_count": 26,
   "id": "534c958b",
   "metadata": {},
   "outputs": [
    {
     "data": {
      "text/plain": [
       "<__main__.Student at 0x235711d44d0>"
      ]
     },
     "execution_count": 26,
     "metadata": {},
     "output_type": "execute_result"
    }
   ],
   "source": [
    "# calling \n",
    "class Student:\n",
    "    def __init__(self):\n",
    "        pass\n",
    "Student()\n"
   ]
  },
  {
   "cell_type": "code",
   "execution_count": 31,
   "id": "a128b61a",
   "metadata": {},
   "outputs": [
    {
     "name": "stdout",
     "output_type": "stream",
     "text": [
      "ritik\n",
      "22\n"
     ]
    }
   ],
   "source": [
    "class Student:\n",
    "    def __init__(self, name , age ):\n",
    "        self.name = name\n",
    "        self.age = age  ### intance variable\n",
    "\n",
    "\n",
    "obj_st =Student(name = \"ritik\", age=22)\n",
    "\n",
    "print(obj_st.name)\n",
    "print(obj_st.age)"
   ]
  },
  {
   "cell_type": "code",
   "execution_count": 35,
   "id": "4115352b",
   "metadata": {},
   "outputs": [],
   "source": [
    "class Student:\n",
    "    def __init__(self, name , age , address):\n",
    "        self.name = name\n",
    "        self.age = age  ### intance variable\n",
    "        self.address = address\n",
    "\n",
    "    def display(self):\n",
    "        print(f\"my name is {self.name} and my age is {self.age} and my address is {self.address}\")\n",
    "\n",
    "\n",
    "\n",
    "obj_st=Student(name=\"ritik\",age=22,address=\"khukas\")"
   ]
  },
  {
   "cell_type": "code",
   "execution_count": 36,
   "id": "1ac293cf",
   "metadata": {},
   "outputs": [
    {
     "name": "stdout",
     "output_type": "stream",
     "text": [
      "my name is ritik and my age is 22 and my address is khukas\n"
     ]
    }
   ],
   "source": [
    "obj_st.display()"
   ]
  },
  {
   "cell_type": "code",
   "execution_count": null,
   "id": "a443912d",
   "metadata": {},
   "outputs": [],
   "source": [
    "# class Bank:\n",
    "# contrutore \n",
    "# init method \n",
    "# __init__\n",
    "# account number  private \n",
    "# name \n",
    "# address\n",
    "# phone number\n",
    "# method \n",
    "# deposite \n",
    "# withdraw\n",
    "# total balance\n"
   ]
  },
  {
   "cell_type": "code",
   "execution_count": null,
   "id": "de0a2049",
   "metadata": {},
   "outputs": [],
   "source": [
    "class Bank:\n",
    "    def __init__(self, name , amount ,age ,account_number , phone_number , address):\n",
    "        self.name = name \n",
    "        self.age = age\n",
    "        self.amount = amount\n",
    "    \n",
    "        self.__account_number = account_number\n",
    "        self.phone_number = phone_number\n",
    "        self.address = address\n",
    "\n",
    "    def deposite(self,amount):\n",
    "        self.amount = self.amount + amount\n",
    "        return self.amount\n",
    "\n",
    "        \n",
    "    def withdraw(self,amount):\n",
    "        self.amount = self.amount - amount\n",
    "        return \"success withdraw thanks for using our services\" \n",
    "\n",
    "    def total_balance(self):\n",
    "        return self.amount \n",
    "    def info(self):\n",
    "        print(\"your name \",self.name)\n",
    "bn_obj =Bank(name=\"ritik\",amount=1000,age=22,account_number=\"1234\",phone_number=\"1234567890\",address=\"khukas\")"
   ]
  },
  {
   "cell_type": "code",
   "execution_count": 39,
   "id": "9f2f2449",
   "metadata": {},
   "outputs": [
    {
     "data": {
      "text/plain": [
       "'khukas'"
      ]
     },
     "execution_count": 39,
     "metadata": {},
     "output_type": "execute_result"
    }
   ],
   "source": [
    "bn_obj.address"
   ]
  },
  {
   "cell_type": "code",
   "execution_count": 45,
   "id": "ab896c0d",
   "metadata": {},
   "outputs": [
    {
     "data": {
      "text/plain": [
       "1500"
      ]
     },
     "execution_count": 45,
     "metadata": {},
     "output_type": "execute_result"
    }
   ],
   "source": [
    "bn_obj.total_balance()"
   ]
  },
  {
   "cell_type": "code",
   "execution_count": 42,
   "id": "11a06122",
   "metadata": {},
   "outputs": [
    {
     "data": {
      "text/plain": [
       "2000"
      ]
     },
     "execution_count": 42,
     "metadata": {},
     "output_type": "execute_result"
    }
   ],
   "source": [
    "bn_obj.total_balance()"
   ]
  },
  {
   "cell_type": "code",
   "execution_count": 41,
   "id": "cd5c13a1",
   "metadata": {},
   "outputs": [
    {
     "data": {
      "text/plain": [
       "2000"
      ]
     },
     "execution_count": 41,
     "metadata": {},
     "output_type": "execute_result"
    }
   ],
   "source": [
    "bn_obj.deposite(1000)"
   ]
  },
  {
   "cell_type": "code",
   "execution_count": null,
   "id": "007b6846",
   "metadata": {},
   "outputs": [],
   "source": []
  },
  {
   "cell_type": "code",
   "execution_count": 44,
   "id": "559145c9",
   "metadata": {},
   "outputs": [
    {
     "ename": "AttributeError",
     "evalue": "'Bank' object has no attribute '__account_number'",
     "output_type": "error",
     "traceback": [
      "\u001b[1;31m---------------------------------------------------------------------------\u001b[0m",
      "\u001b[1;31mAttributeError\u001b[0m                            Traceback (most recent call last)",
      "Cell \u001b[1;32mIn[44], line 1\u001b[0m\n\u001b[1;32m----> 1\u001b[0m \u001b[43mbn_obj\u001b[49m\u001b[38;5;241;43m.\u001b[39;49m\u001b[43m__account_number\u001b[49m\n",
      "\u001b[1;31mAttributeError\u001b[0m: 'Bank' object has no attribute '__account_number'"
     ]
    }
   ],
   "source": [
    "bn_obj.__account_number"
   ]
  },
  {
   "cell_type": "code",
   "execution_count": null,
   "id": "a5cd0320",
   "metadata": {},
   "outputs": [],
   "source": []
  }
 ],
 "metadata": {
  "kernelspec": {
   "display_name": "Python 3",
   "language": "python",
   "name": "python3"
  },
  "language_info": {
   "codemirror_mode": {
    "name": "ipython",
    "version": 3
   },
   "file_extension": ".py",
   "mimetype": "text/x-python",
   "name": "python",
   "nbconvert_exporter": "python",
   "pygments_lexer": "ipython3",
   "version": "3.11.5"
  }
 },
 "nbformat": 4,
 "nbformat_minor": 5
}
